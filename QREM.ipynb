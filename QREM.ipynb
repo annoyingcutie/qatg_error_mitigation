{
 "cells": [
  {
   "cell_type": "code",
   "execution_count": 5,
   "id": "857acffe",
   "metadata": {},
   "outputs": [
    {
     "name": "stdout",
     "output_type": "stream",
     "text": [
      "Requirement already satisfied: libs_qrem in c:\\users\\li\\anaconda3\\envs\\quantum\\lib\\site-packages (0.1.6)\n",
      "Requirement already satisfied: qiskit-ignis in c:\\users\\li\\anaconda3\\envs\\quantum\\lib\\site-packages (0.7.1)\n",
      "Requirement already satisfied: numpy>=1.13 in c:\\users\\li\\anaconda3\\envs\\quantum\\lib\\site-packages (from qiskit-ignis) (1.23.4)\n",
      "Requirement already satisfied: qiskit-terra>=0.15.1 in c:\\users\\li\\anaconda3\\envs\\quantum\\lib\\site-packages (from qiskit-ignis) (0.22.2)\n",
      "Requirement already satisfied: scipy!=0.19.1,>=0.19 in c:\\users\\li\\anaconda3\\envs\\quantum\\lib\\site-packages (from qiskit-ignis) (1.9.3)\n",
      "Requirement already satisfied: setuptools>=40.1.0 in c:\\users\\li\\anaconda3\\envs\\quantum\\lib\\site-packages (from qiskit-ignis) (65.5.0)\n",
      "Requirement already satisfied: retworkx>=0.8.0 in c:\\users\\li\\anaconda3\\envs\\quantum\\lib\\site-packages (from qiskit-ignis) (0.12.0)\n",
      "Requirement already satisfied: psutil>=5 in c:\\users\\li\\anaconda3\\envs\\quantum\\lib\\site-packages (from qiskit-terra>=0.15.1->qiskit-ignis) (5.9.4)\n",
      "Requirement already satisfied: dill>=0.3 in c:\\users\\li\\anaconda3\\envs\\quantum\\lib\\site-packages (from qiskit-terra>=0.15.1->qiskit-ignis) (0.3.6)\n",
      "Requirement already satisfied: tweedledum<2.0,>=1.1 in c:\\users\\li\\anaconda3\\envs\\quantum\\lib\\site-packages (from qiskit-terra>=0.15.1->qiskit-ignis) (1.1.1)\n",
      "Requirement already satisfied: sympy>=1.3 in c:\\users\\li\\anaconda3\\envs\\quantum\\lib\\site-packages (from qiskit-terra>=0.15.1->qiskit-ignis) (1.11.1)\n",
      "Requirement already satisfied: python-dateutil>=2.8.0 in c:\\users\\li\\anaconda3\\envs\\quantum\\lib\\site-packages (from qiskit-terra>=0.15.1->qiskit-ignis) (2.8.2)\n",
      "Requirement already satisfied: stevedore>=3.0.0 in c:\\users\\li\\anaconda3\\envs\\quantum\\lib\\site-packages (from qiskit-terra>=0.15.1->qiskit-ignis) (4.1.1)\n",
      "Requirement already satisfied: ply>=3.10 in c:\\users\\li\\anaconda3\\envs\\quantum\\lib\\site-packages (from qiskit-terra>=0.15.1->qiskit-ignis) (3.11)\n",
      "Requirement already satisfied: rustworkx==0.12.0 in c:\\users\\li\\anaconda3\\envs\\quantum\\lib\\site-packages (from retworkx>=0.8.0->qiskit-ignis) (0.12.0)\n",
      "Requirement already satisfied: six>=1.5 in c:\\users\\li\\anaconda3\\envs\\quantum\\lib\\site-packages (from python-dateutil>=2.8.0->qiskit-terra>=0.15.1->qiskit-ignis) (1.16.0)\n",
      "Requirement already satisfied: pbr!=2.1.0,>=2.0.0 in c:\\users\\li\\anaconda3\\envs\\quantum\\lib\\site-packages (from stevedore>=3.0.0->qiskit-terra>=0.15.1->qiskit-ignis) (5.11.0)\n",
      "Requirement already satisfied: mpmath>=0.19 in c:\\users\\li\\anaconda3\\envs\\quantum\\lib\\site-packages (from sympy>=1.3->qiskit-terra>=0.15.1->qiskit-ignis) (1.2.1)\n"
     ]
    }
   ],
   "source": [
    "!pip install libs_qrem\n",
    "!pip install qiskit-ignis   "
   ]
  },
  {
   "cell_type": "code",
   "execution_count": 12,
   "id": "538fe5e7",
   "metadata": {},
   "outputs": [
    {
     "name": "stderr",
     "output_type": "stream",
     "text": [
      "ibmqfactory.load_account:WARNING:2022-11-29 00:00:03,852: Credentials are already in use. The existing account in the session will be replaced.\n"
     ]
    },
    {
     "data": {
      "text/plain": [
       "<AccountProvider for IBMQ(hub='ibm-q', group='open', project='main')>"
      ]
     },
     "execution_count": 12,
     "metadata": {},
     "output_type": "execute_result"
    }
   ],
   "source": [
    "from qiskit import IBMQ\n",
    "IBMQ.save_account('872395c64aae629a782c0f29e240279b70d8831a8a57be2271e6bc43a62dc9760e9029602bd94b411651319af154544a5fa015225362d0574d77d193720673b2', overwrite=True)\n",
    "IBMQ.load_account()"
   ]
  },
  {
   "cell_type": "code",
   "execution_count": 15,
   "id": "28184528",
   "metadata": {},
   "outputs": [
    {
     "name": "stderr",
     "output_type": "stream",
     "text": [
      "ibmqfactory.load_account:WARNING:2022-11-29 00:03:55,148: Credentials are already in use. The existing account in the session will be replaced.\n"
     ]
    },
    {
     "name": "stdout",
     "output_type": "stream",
     "text": [
      "\n",
      "Here is the list of cloud backends that are available to you:\n",
      "ibmq_qasm_simulator\n",
      "ibmq_lima\n",
      "ibmq_belem\n",
      "ibmq_quito\n",
      "simulator_statevector\n",
      "simulator_mps\n",
      "simulator_extended_stabilizer\n",
      "simulator_stabilizer\n",
      "ibmq_manila\n",
      "ibm_nairobi\n",
      "ibm_oslo\n",
      "\n",
      "Here is the list of local backends that are available to you: \n",
      "aer_simulator\n",
      "aer_simulator_statevector\n",
      "aer_simulator_density_matrix\n",
      "aer_simulator_stabilizer\n",
      "aer_simulator_matrix_product_state\n",
      "aer_simulator_extended_stabilizer\n",
      "aer_simulator_unitary\n",
      "aer_simulator_superop\n",
      "qasm_simulator\n",
      "statevector_simulator\n",
      "unitary_simulator\n",
      "pulse_simulator\n"
     ]
    }
   ],
   "source": [
    "from qiskit import IBMQ, Aer\n",
    "provider = IBMQ.load_account()\n",
    "available_cloud_backends = provider.backends() \n",
    "print('\\nHere is the list of cloud backends that are available to you:')\n",
    "for i in available_cloud_backends: print(i)\n",
    "\n",
    "available_local_backends = Aer.backends() \n",
    "print('\\nHere is the list of local backends that are available to you: ')\n",
    "for i in available_local_backends: print(i)"
   ]
  },
  {
   "cell_type": "code",
   "execution_count": 25,
   "id": "74a87155",
   "metadata": {},
   "outputs": [
    {
     "name": "stdout",
     "output_type": "stream",
     "text": [
      "[array([[1., 0.],\n",
      "       [0., 1.]]), array([[1., 0., 0., 0.],\n",
      "       [0., 1., 0., 0.],\n",
      "       [0., 0., 1., 0.],\n",
      "       [0., 0., 0., 1.]])]\n"
     ]
    }
   ],
   "source": [
    "from qiskit import QuantumRegister, Aer, execute\n",
    "from qiskit.ignis.mitigation.measurement import tensored_meas_cal\n",
    "# prepare calibration circuit (same as qiskit tutorial)\n",
    "n = 5\n",
    "qr = QuantumRegister(n)\n",
    "mit_pattern = [[2], [3, 4]]\n",
    "meas_calibs, state_labels = tensored_meas_cal(mit_pattern=mit_pattern, qr=qr, circlabel='mcal')\n",
    "\n",
    "# run calibration circuit (same as qiskit tutorial)\n",
    "backend = Aer.get_backend('aer_simulator')\n",
    "job = execute(meas_calibs, backend=backend, shots=5000)\n",
    "cal_results = job.result()\n",
    "\n",
    "from qiskit.ignis.mitigation.measurement import TensoredMeasFitter\n",
    "meas_fitter = TensoredMeasFitter(cal_results, mit_pattern=mit_pattern)\n",
    "print(meas_fitter.cal_matrices )\n",
    "# Create mitigator instance (corresponds to meas_fitter.filter in the tutorial code.)\n",
    "# this is very similar to the usage of qiskit.ignis.mitigation modules \n",
    "# meas_filter = meas_fitter.filter\n",
    "from libs_qrem import LeastNormFilter\n",
    "meas_filter = LeastNormFilter(n, meas_fitter.cal_matrices)\n",
    "\n",
    "# apply mitigation\n",
    "# Let `noisy_hist` be a dict variable representing a noisy histogram obtained from `.get_counts()` method in `qiskit.result.Result` instance.\n",
    "noisy_hist = {\"000\": 50, \"101\": 20, \"111\": 30}\n",
    "# Then you can mitigate it as follows.\n",
    "mitigated_hist = meas_filter.apply(noisy_hist)\n"
   ]
  },
  {
   "cell_type": "code",
   "execution_count": 26,
   "id": "4357cbb0",
   "metadata": {},
   "outputs": [
    {
     "name": "stdout",
     "output_type": "stream",
     "text": [
      "{'000': 33.333333333333336, '101': 33.333333333333336, '111': 33.333333333333336}\n"
     ]
    }
   ],
   "source": [
    "print(mitigated_hist)"
   ]
  },
  {
   "cell_type": "code",
   "execution_count": null,
   "id": "e9c71dd5",
   "metadata": {},
   "outputs": [],
   "source": []
  }
 ],
 "metadata": {
  "kernelspec": {
   "display_name": "quantum",
   "language": "python",
   "name": "quantum"
  },
  "language_info": {
   "codemirror_mode": {
    "name": "ipython",
    "version": 3
   },
   "file_extension": ".py",
   "mimetype": "text/x-python",
   "name": "python",
   "nbconvert_exporter": "python",
   "pygments_lexer": "ipython3",
   "version": "3.10.8"
  }
 },
 "nbformat": 4,
 "nbformat_minor": 5
}
