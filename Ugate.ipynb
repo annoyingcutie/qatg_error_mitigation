{
 "cells": [
  {
   "cell_type": "code",
   "execution_count": 1,
   "id": "2fe8ac25",
   "metadata": {},
   "outputs": [],
   "source": [
    "%load_ext autoreload\n",
    "%autoreload 2"
   ]
  },
  {
   "cell_type": "code",
   "execution_count": 2,
   "id": "9556d5a1",
   "metadata": {},
   "outputs": [],
   "source": [
    "%matplotlib ipympl\n",
    "# pip install ipympl\n",
    "\n",
    "import numpy as np\n",
    "import qiskit.circuit.library as qGate\n",
    "from qiskit.extensions import UnitaryGate\n",
    "\n",
    "from qatg import QATG\n",
    "from qatg import QATGFault\n",
    "\n",
    "class myUFault(QATGFault):\n",
    "\tdef __init__(self, params):\n",
    "\t\tsuper(myUFault, self).__init__(qGate.UGate, 0, f\"gateType: U, qubits: 0, params: {params}\")\n",
    "\t\tself.params = params\n",
    "\tdef createOriginalGate(self):\n",
    "\t\treturn qGate.UGate(*self.params)\n",
    "\tdef createFaultyGate(self, faultfreeGate):\n",
    "\t\treturn qGate.UGate(faultfreeGate.params[0] - 0.1*np.pi, faultfreeGate.params[1], faultfreeGate.params[2])\n",
    "    \n",
    "class myCNOTFault(QATGFault):\n",
    "\tdef __init__(self):\n",
    "\t\tsuper(myCNOTFault, self).__init__(qGate.CXGate, [0, 1], f\"gateType: CX, qubits: 0-1\")\n",
    "\tdef createOriginalGate(self):\n",
    "\t\treturn qGate.CXGate()\n",
    "\tdef createFaultyGate(self, faultfreeGate):\n",
    "\t\tif not isinstance(faultfreeGate, qGate.CXGate):\n",
    "\t\t\traise TypeError(\"what is this faultfreeGate\")\n",
    "\t\tmatrix = qGate.CXGate().to_matrix()\n",
    "\t\tUF = qGate.UGate(0.05*np.pi, 0.05*np.pi, 0.05*np.pi)\n",
    "\t\tmatrix = np.matmul(np.kron(np.eye(2), UF), matrix)\n",
    "\t\tmatrix = np.matmul(matrix, np.kron(UF, np.eye(2)))\n",
    "\t\treturn UnitaryGate(matrix)"
   ]
  },
  {
   "cell_type": "code",
   "execution_count": 3,
   "id": "5d56c79b",
   "metadata": {},
   "outputs": [],
   "source": [
    "class myRXFault(QATGFault):\n",
    "\tdef __init__(self, param):\n",
    "\t\tsuper(myRXFault, self).__init__(qGate.RXGate, 0, f\"gateType: RX, qubits: 0, param: {param}\")\n",
    "\t\tself.param = param\n",
    "\tdef createOriginalGate(self):\n",
    "\t\treturn qGate.RXGate(self.param)\n",
    "\tdef createFaultyGate(self, faultfreeGate):\n",
    "\t\treturn qGate.RXGate(faultfreeGate.params[0] - 0.1*np.pi) # bias fault\n",
    "\t\n",
    "class myRZFault(QATGFault):\n",
    "\tdef __init__(self, param):\n",
    "\t\tsuper(myRZFault, self).__init__(qGate.RZGate, 0, f\"gateType: RZ, qubits: 0, param: {param}\")\n",
    "\t\tself.param = param\n",
    "\tdef createOriginalGate(self):\n",
    "\t\treturn qGate.RZGate(self.param)\n",
    "\tdef createFaultyGate(self, faultfreeGate):\n",
    "\t\treturn qGate.RZGate(faultfreeGate.params[0] - 0.1*np.pi) # bias fault"
   ]
  },
  {
   "cell_type": "code",
   "execution_count": 4,
   "id": "5abb329e",
   "metadata": {},
   "outputs": [
    {
     "name": "stdout",
     "output_type": "stream",
     "text": [
      "GS Parameter Score: 0.19098300562505274\n",
      "GD Parameter Score: 0.19098300562191783\n",
      "GD Step: 0\n",
      "Current ParamterSet: [[1.8849517724935656, -3.1415945634200315, -3.141592653589793]]\n",
      "Current effect size: 0.3791639787513044\n",
      "\n",
      "GS Parameter Score: 0.6250015513436586\n",
      "GD Parameter Score: 0.6909830041832262\n",
      "GD Step: 27\n",
      "Current ParamterSet: [[-2.8274409705767454, -3.1416919002604526, -3.141682239461847]]\n",
      "Current effect size: 0.7968863722870106\n",
      "\n",
      "GS Parameter Score: 1.184025766478124\n",
      "GD Parameter Score: 1.3090169911148877\n",
      "GD Step: 12\n",
      "Current ParamterSet: [[-2.8274495440471235, -3.1416441176836685, -3.1416560289178896]]\n",
      "Current effect size: 1.3294595246531753\n",
      "\n",
      "GS Parameter Score: 1.6363005439085139\n",
      "GD Parameter Score: 1.8090169897115338\n",
      "GD Step: 7\n",
      "Current ParamterSet: [[-2.8274430778431068, -3.141619466924457, -3.141617508328949]]\n",
      "Current effect size: 2.2621513212401103\n",
      "\n",
      "Target fault: { gateType: U, qubits: 0, params: [3.141592653589793, 3.141592653589793, 3.141592653589793] }\n",
      "Length: 8\tRepetition: 11\tCost: 88\n",
      "Chi-Value boundary: 51.583465951132126\n",
      "Effect Size: 2.2621513212401103\n",
      "Overkill: 0.0\tTest Escape: 0.0\n",
      "\n"
     ]
    },
    {
     "data": {
      "application/vnd.jupyter.widget-view+json": {
       "model_id": "2fff00a7b610476c97aeaa735194bd21",
       "version_major": 2,
       "version_minor": 0
      },
      "image/png": "[encoded data removed]",
      "text/html": [
       "\n",
       "            <div style=\"display: inline-block;\">\n",
       "                <div class=\"jupyter-widgets widget-label\" style=\"text-align: center;\">\n",
       "                    Figure\n",
       "                </div>\n",
       "                <img src='data:image/png;base64,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' width=1439.6194364243997/>\n",
       "            </div>\n",
       "        "
      ],
      "text/plain": [
       "Canvas(toolbar=Toolbar(toolitems=[('Home', 'Reset original view', 'home', 'home'), ('Back', 'Back to previous …"
      ]
     },
     "metadata": {},
     "output_type": "display_data"
    }
   ],
   "source": [
    "generator = QATG(circuitSize = 1, basisGateSet = [qGate.UGate], circuitInitializedStates = {1: [1, 0]}, minRequiredEffectSize = 2, verbose = True)\n",
    "configurationList = generator.createTestConfiguration([myUFault([np.pi, np.pi, np.pi])])\n",
    "for configuration in configurationList:\n",
    "    print(configuration)\n",
    "    configuration.circuit.draw('mpl')"
   ]
  },
  {
   "cell_type": "code",
   "execution_count": 11,
   "id": "4016c36d",
   "metadata": {},
   "outputs": [],
   "source": [
    "#!pip install libs_qrem\n",
    "#!pip install qiskit-ignis   \n",
    "    "
   ]
  },
  {
   "cell_type": "code",
   "execution_count": 2,
   "id": "3e83374d",
   "metadata": {},
   "outputs": [
    {
     "data": {
      "text/plain": [
       "<AccountProvider for IBMQ(hub='ibm-q', group='open', project='main')>"
      ]
     },
     "execution_count": 2,
     "metadata": {},
     "output_type": "execute_result"
    }
   ],
   "source": [
    "from qiskit import IBMQ\n",
    "IBMQ.save_account('872395c64aae629a782c0f29e240279b70d8831a8a57be2271e6bc43a62dc9760e9029602bd94b411651319af154544a5fa015225362d0574d77d193720673b2', overwrite=True)\n",
    "IBMQ.load_account()"
   ]
  },
  {
   "cell_type": "code",
   "execution_count": 3,
   "id": "b175ec23",
   "metadata": {},
   "outputs": [],
   "source": [
    "def getNoiseModel_no_readouterror(self):\n",
    "\t\t# Depolarizing quantum errors\n",
    "\t\toneQubitError = standard_errors.depolarizing_error(self.oneQubitErrorProb, 1)\n",
    "\t\ttwoQubitError = standard_errors.depolarizing_error(self.twoQubitErrorProb, 2)\n",
    "\t\tqubitReadoutError = ReadoutError([self.zeroReadoutErrorProb, self.oneReadoutErrorProb])\n",
    "\n",
    "\t\t# Add errors to noise model\n",
    "\t\tnoiseModel = NoiseModel()\n",
    "\t\tnoiseModel.add_all_qubit_quantum_error(oneQubitError, self.basisGateSetString)\n",
    "\t\tnoiseModel.add_all_qubit_quantum_error(twoQubitError, ['cx'])\n",
    "\t\t\n",
    "\n",
    "\t\treturn noiseModel"
   ]
  },
  {
   "cell_type": "code",
   "execution_count": 10,
   "id": "ef6394c1",
   "metadata": {},
   "outputs": [
    {
     "name": "stdout",
     "output_type": "stream",
     "text": [
      "GS Parameter Score: 0.19098300562505274\n",
      "GD Parameter Score: 0.19098300562191783\n",
      "GD Step: 0\n",
      "Current ParamterSet: [[1.8849517724935656, -3.1415945634200315, -3.141592653589793]]\n",
      "Current effect size: 0.3791639787513044\n",
      "\n",
      "GS Parameter Score: 0.6250015513436586\n",
      "GD Parameter Score: 0.6909830041832262\n",
      "GD Step: 27\n",
      "Current ParamterSet: [[-2.8274409705767454, -3.1416919002604526, -3.141682239461847]]\n",
      "Current effect size: 0.7968863722870106\n",
      "\n",
      "GS Parameter Score: 1.184025766478124\n",
      "GD Parameter Score: 1.3090169911148877\n",
      "GD Step: 12\n",
      "Current ParamterSet: [[-2.8274495440471235, -3.1416441176836685, -3.1416560289178896]]\n",
      "Current effect size: 1.3294595246531753\n",
      "\n",
      "GS Parameter Score: 1.6363005439085139\n",
      "GD Parameter Score: 1.8090169897115338\n",
      "GD Step: 7\n",
      "Current ParamterSet: [[-2.8274430778431068, -3.141619466924457, -3.141617508328949]]\n",
      "Current effect size: 2.2621513212401103\n",
      "\n",
      "Target fault: { gateType: U, qubits: 0, params: [3.141592653589793, 3.141592653589793, 3.141592653589793] }\n",
      "Length: 8\tRepetition: 11\tCost: 88\n",
      "Chi-Value boundary: 54.40019187822071\n",
      "Effect Size: 2.2621513212401103\n",
      "Overkill: 0.0\tTest Escape: 0.0\n",
      "\n",
      "no_anynoise\n",
      "{'0': 195163, '1': 4837}\n",
      "no_readouterror\n",
      "[{'0': 200000}, {'1': 200000}]\n",
      "noisy_hist\n",
      "[{'0': 196971, '1': 3029}, {'1': 196921, '0': 3079}]\n",
      "calibration matrices\n",
      "[array([[0.984855, 0.015395],\n",
      "       [0.015145, 0.984605]])]\n",
      "Readout fidelity of Q0: 0.984730\n",
      "Q0 Calibration Matrix\n"
     ]
    },
    {
     "data": {
      "image/png": "[encoded data removed]",
      "text/plain": [
       "<Figure size 640x480 with 2 Axes>"
      ]
     },
     "metadata": {},
     "output_type": "display_data"
    },
    {
     "name": "stdout",
     "output_type": "stream",
     "text": [
      "mitigated_hist\n",
      "[{'0': 200000.0}, {'0': 2.220446049250313e-11, '1': 199999.99999999997}]\n",
      "no_readouterror\n",
      "{'0': 195123, '1': 4877}\n"
     ]
    },
    {
     "data": {
      "image/png": "[encoded data removed]",
      "text/plain": [
       "<Figure size 700x500 with 1 Axes>"
      ]
     },
     "metadata": {},
     "output_type": "display_data"
    },
    {
     "name": "stdout",
     "output_type": "stream",
     "text": [
      "raw_counts\n",
      "{'0': 192223, '1': 7777}\n",
      "mitigated_counts\n",
      "{'0': 195102.42815588063, '1': 4897.571844119408}\n"
     ]
    }
   ],
   "source": [
    "from qiskit import QuantumRegister, Aer, execute\n",
    "from qiskit.ignis.mitigation.measurement import tensored_meas_cal\n",
    "import numpy as np\n",
    "import qiskit.circuit.library as qGate\n",
    "from qiskit.extensions import UnitaryGate\n",
    "from qiskit.ignis.mitigation.measurement import TensoredMeasFitter\n",
    "from qatg import QATG\n",
    "from qatg import QATGFault\n",
    "from libs_qrem import LeastNormFilter\n",
    "from qiskit.tools.visualization import plot_histogram\n",
    "from qiskit.providers.aer.noise import NoiseModel\n",
    "from qiskit.providers.aer.noise.errors import standard_errors, ReadoutError\n",
    "\n",
    "# prepare calibration circuit (same as qiskit tutorial)\n",
    "class myUFault(QATGFault):\n",
    "\tdef __init__(self, params):\n",
    "\t\tsuper(myUFault, self).__init__(qGate.UGate, 0, f\"gateType: U, qubits: 0, params: {params}\")\n",
    "\t\tself.params = params\n",
    "\tdef createOriginalGate(self):\n",
    "\t\treturn qGate.UGate(*self.params)\n",
    "\tdef createFaultyGate(self, faultfreeGate):\n",
    "\t\treturn qGate.UGate(faultfreeGate.params[0] - 0.1*np.pi, faultfreeGate.params[1], faultfreeGate.params[2])\n",
    "generator = QATG(circuitSize = 1, basisGateSet = [qGate.UGate], circuitInitializedStates = {1: [1, 0]}, minRequiredEffectSize = 2, verbose = True)\n",
    "configurationList = generator.createTestConfiguration([myUFault([np.pi, np.pi, np.pi])])\n",
    "\n",
    "for configuration in configurationList:\n",
    "    print(configuration)\n",
    "    configuration.circuit.draw('mpl')\n",
    "   \n",
    "    n = 1\n",
    "    qr = configuration.quantumRegister \n",
    "    \n",
    "    mit_pattern = []\n",
    "    for i in range(n):\n",
    "        singlebit = [i]\n",
    "        mit_pattern.append(singlebit)\n",
    "    \n",
    "    #mit_pattern = [[0]]\n",
    "    meas_calibs, state_labels = tensored_meas_cal(mit_pattern=mit_pattern, qr=qr, circlabel='mcal')\n",
    "    backend = Aer.get_backend('aer_simulator')\n",
    "    \n",
    "    no_anynoise_job = execute(configuration.faultfreeQCKT, backend=backend, shots=200000)\n",
    "    no_anynoise_results = no_anynoise_job.result()\n",
    "    # Results without mitigation\n",
    "    no_anynoise =no_anynoise_results.get_counts()\n",
    "    print(\"no_anynoise\")\n",
    "    print(no_anynoise)\n",
    "    \n",
    "    no_readouterror_job = execute(meas_calibs, backend=backend, shots=200000,noise_model=getNoiseModel_no_readouterror(configuration))\n",
    "    no_readouterror_cal_results = no_readouterror_job .result()\n",
    "    print(\"no_readouterror\")\n",
    "    print(no_readouterror_cal_results.get_counts())\n",
    "    \n",
    "    noise_job = execute(meas_calibs, backend=backend, shots=200000, noise_model=configuration.getNoiseModel())\n",
    "    noise_cal_results = noise_job.result()\n",
    "    noisy_hist = noise_job.result().get_counts()\n",
    "    print(\"noisy_hist\")\n",
    "    print(noisy_hist)\n",
    "    \n",
    "    meas_fitter = TensoredMeasFitter(noise_cal_results, mit_pattern=mit_pattern)\n",
    "    print(\"calibration matrices\")\n",
    "    print(meas_fitter.cal_matrices)\n",
    "    \n",
    "    for i in range(n):\n",
    "        print('Readout fidelity of Q'+str(i)+': %f'%meas_fitter.readout_fidelity(i))\n",
    "        print('Q'+str(i)+' Calibration Matrix')\n",
    "        meas_fitter.plot_calibration(i)\n",
    "    \n",
    "    \n",
    "    #print('Readout fidelity of Q1: %f'%meas_fitter.readout_fidelity(0))\n",
    "    #print('Q2 Calibration Matrix')\n",
    "    #meas_fitter.plot_calibration(0)\n",
    "    \n",
    "    meas_filter = LeastNormFilter(n, meas_fitter.cal_matrices)\n",
    "    \n",
    "   \n",
    "    \n",
    "    mitigated_hist = meas_filter.apply(noisy_hist)\n",
    "    print(\"mitigated_hist\")\n",
    "    print(mitigated_hist)\n",
    "    #count = mitigated_hist.get_counts()\n",
    "    \n",
    "    #display(plot_histogram([noisy_hist, count], legend=['raw', 'mitigated']))\n",
    "    \n",
    "    \n",
    "    #Second time?\n",
    "    \n",
    "    \n",
    "    faultfree_noreadouterror = execute(configuration.faultfreeQCKT, backend=backend, shots=200000,noise_model=getNoiseModel_no_readouterror(configuration))\n",
    "    faultfree_noreadouterror_results = faultfree_noreadouterror.result()\n",
    "    # Results without mitigation\n",
    "    no_readouterror = faultfree_noreadouterror_results.get_counts()\n",
    "    print(\"no_readouterror\")\n",
    "    print(no_readouterror)\n",
    "    \n",
    "    \n",
    "    \n",
    "    faultfree_noisy_job = execute(configuration.faultfreeQCKT, backend=backend, shots=200000, noise_model=configuration.getNoiseModel())\n",
    "    faultfree_noisy_results = faultfree_noisy_job.result()\n",
    "    \n",
    "    # Results without mitigation\n",
    "    faultfree_raw_counts = faultfree_noisy_results.get_counts()\n",
    "\n",
    "    # Get the filter object\n",
    "    #meas_filter = meas_fitter.filter\n",
    "    #print(meas_filter.cal_matrices)\n",
    "    # Results with mitigation\n",
    "    mitigated_results = meas_filter.apply(faultfree_noisy_results)\n",
    "    mitigated_counts = mitigated_results.get_counts()\n",
    "    display(plot_histogram([faultfree_raw_counts, mitigated_counts], legend=['raw', 'mitigated']))\n",
    "    print(\"raw_counts\")\n",
    "    print(faultfree_raw_counts)\n",
    "    print(\"mitigated_counts\")\n",
    "    print(mitigated_counts)\n",
    "    \n"
   ]
  },
  {
   "cell_type": "code",
   "execution_count": null,
   "id": "3c8d87dc",
   "metadata": {},
   "outputs": [],
   "source": [
    "\n",
    "    "
   ]
  }
 ],
 "metadata": {
  "kernelspec": {
   "display_name": "quantum",
   "language": "python",
   "name": "quantum"
  },
  "language_info": {
   "codemirror_mode": {
    "name": "ipython",
    "version": 3
   },
   "file_extension": ".py",
   "mimetype": "text/x-python",
   "name": "python",
   "nbconvert_exporter": "python",
   "pygments_lexer": "ipython3",
   "version": "3.10.8"
  }
 },
 "nbformat": 4,
 "nbformat_minor": 5
}
